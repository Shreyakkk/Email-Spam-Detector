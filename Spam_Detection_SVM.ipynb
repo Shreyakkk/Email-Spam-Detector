{
  "nbformat": 4,
  "nbformat_minor": 0,
  "metadata": {
    "kernelspec": {
      "display_name": "Python 3",
      "language": "python",
      "name": "python3"
    },
    "language_info": {
      "codemirror_mode": {
        "name": "ipython",
        "version": 3
      },
      "file_extension": ".py",
      "mimetype": "text/x-python",
      "name": "python",
      "nbconvert_exporter": "python",
      "pygments_lexer": "ipython3",
      "version": "3.9.1"
    },
    "colab": {
      "name": "Spam_Detection_SVM.ipynb",
      "provenance": [],
      "collapsed_sections": [],
      "include_colab_link": true
    }
  },
  "cells": [
    {
      "cell_type": "markdown",
      "metadata": {
        "id": "view-in-github",
        "colab_type": "text"
      },
      "source": [
        "<a href=\"https://colab.research.google.com/github/manglaaseem28/Email-Spam-Detector/blob/master/Spam_Detection_SVM.ipynb\" target=\"_parent\"><img src=\"https://colab.research.google.com/assets/colab-badge.svg\" alt=\"Open In Colab\"/></a>"
      ]
    },
    {
      "cell_type": "markdown",
      "metadata": {
        "id": "zxmJyVlgFAKD"
      },
      "source": [
        "Dataset Link:\n",
        "https://github.com/Shreyakkk/Email-Spam-Detector/blob/master/spam.csv\n",
        "\n",
        "(raw link:- https://raw.githubusercontent.com/Shreyakkk/Email-Spam-Detector/master/spam.csv)\n",
        "1.\tBased on the dataset above, perform binary classification problem for email spam detection using Support Vector Machine (SVM) based machine Learning classification model.\n",
        "2.\tCheck how performance varies with different types of Kernels\n",
        "3.\tAlso check if the decision boundary changes with change in kernels."
      ]
    },
    {
      "cell_type": "code",
      "metadata": {
        "id": "hGt9zkOqFAKJ"
      },
      "source": [
        "%matplotlib inline\n",
        "import numpy as np\n",
        "import pandas as pd\n",
        "import matplotlib.pyplot as plt\n"
      ],
      "execution_count": null,
      "outputs": []
    },
    {
      "cell_type": "code",
      "metadata": {
        "colab": {
          "base_uri": "https://localhost:8080/",
          "height": 195
        },
        "id": "M22epEWWFAKK",
        "outputId": "c1520d7c-e82e-41c0-8016-e8da8cf708ea"
      },
      "source": [
        "df = pd.read_csv('https://raw.githubusercontent.com/Shreyakkk/Email-Spam-Detector/master/spam.csv')\n",
        "df.head()"
      ],
      "execution_count": null,
      "outputs": [
        {
          "output_type": "execute_result",
          "data": {
            "text/html": [
              "<div>\n",
              "<style scoped>\n",
              "    .dataframe tbody tr th:only-of-type {\n",
              "        vertical-align: middle;\n",
              "    }\n",
              "\n",
              "    .dataframe tbody tr th {\n",
              "        vertical-align: top;\n",
              "    }\n",
              "\n",
              "    .dataframe thead th {\n",
              "        text-align: right;\n",
              "    }\n",
              "</style>\n",
              "<table border=\"1\" class=\"dataframe\">\n",
              "  <thead>\n",
              "    <tr style=\"text-align: right;\">\n",
              "      <th></th>\n",
              "      <th>Label</th>\n",
              "      <th>EmailText</th>\n",
              "    </tr>\n",
              "  </thead>\n",
              "  <tbody>\n",
              "    <tr>\n",
              "      <th>0</th>\n",
              "      <td>ham</td>\n",
              "      <td>Go until jurong point, crazy.. Available only ...</td>\n",
              "    </tr>\n",
              "    <tr>\n",
              "      <th>1</th>\n",
              "      <td>ham</td>\n",
              "      <td>Ok lar... Joking wif u oni...</td>\n",
              "    </tr>\n",
              "    <tr>\n",
              "      <th>2</th>\n",
              "      <td>spam</td>\n",
              "      <td>Free entry in 2 a wkly comp to win FA Cup fina...</td>\n",
              "    </tr>\n",
              "    <tr>\n",
              "      <th>3</th>\n",
              "      <td>ham</td>\n",
              "      <td>U dun say so early hor... U c already then say...</td>\n",
              "    </tr>\n",
              "    <tr>\n",
              "      <th>4</th>\n",
              "      <td>ham</td>\n",
              "      <td>Nah I don't think he goes to usf, he lives aro...</td>\n",
              "    </tr>\n",
              "  </tbody>\n",
              "</table>\n",
              "</div>"
            ],
            "text/plain": [
              "  Label                                          EmailText\n",
              "0   ham  Go until jurong point, crazy.. Available only ...\n",
              "1   ham                      Ok lar... Joking wif u oni...\n",
              "2  spam  Free entry in 2 a wkly comp to win FA Cup fina...\n",
              "3   ham  U dun say so early hor... U c already then say...\n",
              "4   ham  Nah I don't think he goes to usf, he lives aro..."
            ]
          },
          "metadata": {
            "tags": []
          },
          "execution_count": 25
        }
      ]
    },
    {
      "cell_type": "code",
      "metadata": {
        "colab": {
          "base_uri": "https://localhost:8080/",
          "height": 166
        },
        "id": "AiMYvQdYFAKL",
        "outputId": "e7efae55-5f17-4832-df97-cd34ad098c45"
      },
      "source": [
        "df.describe()"
      ],
      "execution_count": null,
      "outputs": [
        {
          "output_type": "execute_result",
          "data": {
            "text/html": [
              "<div>\n",
              "<style scoped>\n",
              "    .dataframe tbody tr th:only-of-type {\n",
              "        vertical-align: middle;\n",
              "    }\n",
              "\n",
              "    .dataframe tbody tr th {\n",
              "        vertical-align: top;\n",
              "    }\n",
              "\n",
              "    .dataframe thead th {\n",
              "        text-align: right;\n",
              "    }\n",
              "</style>\n",
              "<table border=\"1\" class=\"dataframe\">\n",
              "  <thead>\n",
              "    <tr style=\"text-align: right;\">\n",
              "      <th></th>\n",
              "      <th>Label</th>\n",
              "      <th>EmailText</th>\n",
              "    </tr>\n",
              "  </thead>\n",
              "  <tbody>\n",
              "    <tr>\n",
              "      <th>count</th>\n",
              "      <td>5572</td>\n",
              "      <td>5572</td>\n",
              "    </tr>\n",
              "    <tr>\n",
              "      <th>unique</th>\n",
              "      <td>2</td>\n",
              "      <td>5169</td>\n",
              "    </tr>\n",
              "    <tr>\n",
              "      <th>top</th>\n",
              "      <td>ham</td>\n",
              "      <td>Sorry, I'll call later</td>\n",
              "    </tr>\n",
              "    <tr>\n",
              "      <th>freq</th>\n",
              "      <td>4825</td>\n",
              "      <td>30</td>\n",
              "    </tr>\n",
              "  </tbody>\n",
              "</table>\n",
              "</div>"
            ],
            "text/plain": [
              "       Label               EmailText\n",
              "count   5572                    5572\n",
              "unique     2                    5169\n",
              "top      ham  Sorry, I'll call later\n",
              "freq    4825                      30"
            ]
          },
          "metadata": {
            "tags": []
          },
          "execution_count": 26
        }
      ]
    },
    {
      "cell_type": "code",
      "metadata": {
        "colab": {
          "base_uri": "https://localhost:8080/"
        },
        "id": "bulA8uDUFAKM",
        "outputId": "e6b3cec1-36f7-4aa1-c699-8752ff124048"
      },
      "source": [
        "df.isna().sum()"
      ],
      "execution_count": null,
      "outputs": [
        {
          "output_type": "execute_result",
          "data": {
            "text/plain": [
              "Label        0\n",
              "EmailText    0\n",
              "dtype: int64"
            ]
          },
          "metadata": {
            "tags": []
          },
          "execution_count": 27
        }
      ]
    },
    {
      "cell_type": "code",
      "metadata": {
        "id": "ybOSs2eeFAKM"
      },
      "source": [
        "# splitting features and target\n",
        "x = df.iloc[:, 1]\n",
        "y = df.iloc[:, 0]"
      ],
      "execution_count": null,
      "outputs": []
    },
    {
      "cell_type": "code",
      "metadata": {
        "id": "K26-avtCHrsq"
      },
      "source": [
        "# importing PCA for reducing features for plotting \n",
        "from sklearn.decomposition import PCA\n",
        "pca = PCA(n_components=2)"
      ],
      "execution_count": null,
      "outputs": []
    },
    {
      "cell_type": "code",
      "metadata": {
        "id": "GyjxymxPEs-P"
      },
      "source": [
        ""
      ],
      "execution_count": null,
      "outputs": []
    },
    {
      "cell_type": "code",
      "metadata": {
        "id": "rvzqaDFbIUXv"
      },
      "source": [
        "# importing LabelEncoder for encoding target\n",
        "from sklearn.preprocessing import LabelEncoder\n",
        "labelEncoder = LabelEncoder()"
      ],
      "execution_count": null,
      "outputs": []
    },
    {
      "cell_type": "code",
      "metadata": {
        "id": "MEfBuLwEHtPC"
      },
      "source": [
        "# x_pca = pca.fit_transform(vectorizer.fit_transform(x).toarray())\n",
        "# plt.scatter(x_pca[:, 0], x_pca[:, 1], c=labelEncoder.fit_transform(y))\n",
        "# plt.show()"
      ],
      "execution_count": null,
      "outputs": []
    },
    {
      "cell_type": "code",
      "metadata": {
        "id": "mxk30FiJHtUt"
      },
      "source": [
        ""
      ],
      "execution_count": null,
      "outputs": []
    },
    {
      "cell_type": "code",
      "metadata": {
        "id": "dn872VbrFAKN"
      },
      "source": [
        "# splitting data in train, test\n",
        "from sklearn.model_selection import train_test_split\n",
        "x_train, x_test, y_train, y_test = train_test_split(x, y, test_size=1/3, random_state=123)"
      ],
      "execution_count": null,
      "outputs": []
    },
    {
      "cell_type": "code",
      "metadata": {
        "id": "ZLhht31-FAKN"
      },
      "source": [
        "# importing CountVectorizer for encoding featues into categorical data\n",
        "from sklearn.feature_extraction.text import CountVectorizer"
      ],
      "execution_count": null,
      "outputs": []
    },
    {
      "cell_type": "code",
      "metadata": {
        "id": "Z2vGo7LZFAKN"
      },
      "source": [
        "vectorizer = CountVectorizer(analyzer = 'word', tokenizer = None, preprocessor = None, stop_words = None)"
      ],
      "execution_count": null,
      "outputs": []
    },
    {
      "cell_type": "code",
      "metadata": {
        "id": "kQ95DJdYFAKO"
      },
      "source": [
        "# encoding features\n",
        "train_data_features = vectorizer.fit_transform(x_train)\n",
        "train_data_features = train_data_features.toarray()\n",
        "\n",
        "test_data_features = vectorizer.transform(x_test)\n",
        "test_data_features = test_data_features.toarray()"
      ],
      "execution_count": null,
      "outputs": []
    },
    {
      "cell_type": "code",
      "metadata": {
        "id": "fDFXXppSG4T1"
      },
      "source": [
        "# reducing features for plotting\n",
        "features_pca = pca.fit_transform(vectorizer.fit_transform(x).toarray())\n",
        "\n",
        "# encoding target data\n",
        "target_encoded = labelEncoder.fit_transform(y)"
      ],
      "execution_count": null,
      "outputs": []
    },
    {
      "cell_type": "code",
      "metadata": {
        "id": "8bM6lW15KLY8"
      },
      "source": [
        "train_pca = pca.fit_transform(train_data_features)\n",
        "test_pca = pca.fit_transform(test_data_features)"
      ],
      "execution_count": null,
      "outputs": []
    },
    {
      "cell_type": "code",
      "metadata": {
        "id": "EzYDNVk9FAKO"
      },
      "source": [
        "# print(test_data_features)"
      ],
      "execution_count": null,
      "outputs": []
    },
    {
      "cell_type": "code",
      "metadata": {
        "id": "gx6Z8obZF-kz"
      },
      "source": [
        "# importing libraries for model\n",
        "from sklearn import svm\n",
        "from sklearn.metrics import classification_report, confusion_matrix"
      ],
      "execution_count": null,
      "outputs": []
    },
    {
      "cell_type": "code",
      "metadata": {
        "colab": {
          "base_uri": "https://localhost:8080/"
        },
        "id": "uA1IqyNkFAKO",
        "outputId": "2917fb6d-8a36-4f63-d71d-b2c193a0e474"
      },
      "source": [
        "# SVM with Linear Kernel\n",
        "\n",
        "clf = svm.SVC(kernel = 'linear', C=1.0)\n",
        "print('Training')\n",
        "clf.fit(train_data_features, y_train)\n",
        "\n",
        "print('Testing')\n",
        "predict = clf.predict(test_data_features)\n",
        "accuracy = np.mean(predict == y_test)\n",
        "print('Accuracy using Linear Kernel: ', accuracy)\n",
        "print('Confusion Matrix:\\n', confusion_matrix(y_test, predict))\n",
        "print(classification_report(y_test, predict))"
      ],
      "execution_count": null,
      "outputs": [
        {
          "output_type": "stream",
          "text": [
            "Training\n",
            "Testing\n",
            "Accuracy using Linear Kernel:  0.9833153928955867\n",
            "Confusion Matrix:\n",
            " [[1620    0]\n",
            " [  31  207]]\n",
            "              precision    recall  f1-score   support\n",
            "\n",
            "         ham       0.98      1.00      0.99      1620\n",
            "        spam       1.00      0.87      0.93       238\n",
            "\n",
            "    accuracy                           0.98      1858\n",
            "   macro avg       0.99      0.93      0.96      1858\n",
            "weighted avg       0.98      0.98      0.98      1858\n",
            "\n"
          ],
          "name": "stdout"
        }
      ]
    },
    {
      "cell_type": "code",
      "metadata": {
        "id": "2rUrLrBDFAKP"
      },
      "source": [
        "# Testing Results by putting Custom Values\n",
        "# clf.predict(vectorizer.transform(['Free']).toarray())"
      ],
      "execution_count": null,
      "outputs": []
    },
    {
      "cell_type": "code",
      "metadata": {
        "id": "pwX4O-ai-rnT",
        "colab": {
          "base_uri": "https://localhost:8080/",
          "height": 282
        },
        "outputId": "0f2ac4db-f907-46a3-dc4d-edd516cada3e"
      },
      "source": [
        " plt.scatter(features_pca[:, 0], features_pca[:, 1], c=target_encoded, s=50, cmap='autumn')"
      ],
      "execution_count": null,
      "outputs": [
        {
          "output_type": "execute_result",
          "data": {
            "text/plain": [
              "<matplotlib.collections.PathCollection at 0x7f1480621b10>"
            ]
          },
          "metadata": {
            "tags": []
          },
          "execution_count": 73
        },
        {
          "output_type": "display_data",
          "data": {
            "image/png": "[encoded data removed]",
            "text/plain": [
              "<Figure size 432x288 with 1 Axes>"
            ]
          },
          "metadata": {
            "tags": [],
            "needs_background": "light"
          }
        }
      ]
    },
    {
      "cell_type": "code",
      "metadata": {
        "colab": {
          "base_uri": "https://localhost:8080/",
          "height": 298
        },
        "id": "NVIVqbWkYZCO",
        "outputId": "f9bf4489-693e-4ae8-ebb9-859629132cfb"
      },
      "source": [
        "b= plt.scatter(features_pca[:, 0], features_pca[:, 1], c=target_encoded, s=50, cmap='autumn')\n",
        "plt.xlim(-2, 10)\n",
        "plt.title('Linear Kernel Spam Detection')\n",
        "\n",
        "# plot the decision function\n",
        "clf = svm.SVC(kernel='linear', C=0.1)\n",
        "clf.fit(train_pca, y_train)\n",
        "ax = plt.gca()\n",
        "xlim = ax.get_xlim()\n",
        "ylim = ax.get_ylim()\n",
        "\n",
        "# create grid to evaluate model\n",
        "xx = np.linspace(xlim[0], xlim[1], 30)\n",
        "yy = np.linspace(ylim[0], ylim[1], 30)\n",
        "YY, XX = np.meshgrid(yy, xx)\n",
        "xy = np.vstack([XX.ravel(), YY.ravel()]).T\n",
        "Z = clf.decision_function(xy).reshape(XX.shape)\n",
        "\n",
        "# plot decision boundary and margins\n",
        "ax.contour(XX, YY, Z, colors='k', levels=[-1, 0, 1], alpha=0.5,\n",
        "           linestyles=['--', '-', '--'])\n",
        "# plot support vectors\n",
        "# ax.scatter(clf.support_vectors_[:, 0], clf.support_vectors_[:, 1], s=100,\n",
        "          #  linewidth=1, facecolors='none', edgecolors='k')\n"
      ],
      "execution_count": null,
      "outputs": [
        {
          "output_type": "execute_result",
          "data": {
            "text/plain": [
              "<matplotlib.contour.QuadContourSet at 0x7f14806de790>"
            ]
          },
          "metadata": {
            "tags": []
          },
          "execution_count": 74
        },
        {
          "output_type": "display_data",
          "data": {
            "image/png": "[encoded data removed]",
            "text/plain": [
              "<Figure size 432x288 with 1 Axes>"
            ]
          },
          "metadata": {
            "tags": [],
            "needs_background": "light"
          }
        }
      ]
    },
    {
      "cell_type": "code",
      "metadata": {
        "id": "zVVIWhn6FAKP"
      },
      "source": [
        ""
      ],
      "execution_count": null,
      "outputs": []
    },
    {
      "cell_type": "code",
      "metadata": {
        "colab": {
          "base_uri": "https://localhost:8080/"
        },
        "id": "TMqKzm_uFAKP",
        "outputId": "94d5d610-98d4-4aa4-89f5-5e5070de5acc"
      },
      "source": [
        "# SVM with Polynomial Kernel\n",
        "\n",
        "clf = svm.SVC(kernel = 'poly', degree=2, coef0=0.5)\n",
        "print('Training')\n",
        "clf.fit(train_data_features, y_train)\n",
        "\n",
        "print('Testing')\n",
        "predict = clf.predict(test_data_features)\n",
        "accuracy = np.mean(predict == y_test)\n",
        "print('Accuracy using Polynomial Kernel: ', accuracy)\n",
        "print('Confusion Matrix:\\n', confusion_matrix(y_test, predict))\n",
        "print(classification_report(y_test, predict))"
      ],
      "execution_count": null,
      "outputs": [
        {
          "output_type": "stream",
          "text": [
            "Training\n",
            "Testing\n",
            "Accuracy using Polynomial Kernel:  0.9811625403659849\n",
            "Confusion Matrix:\n",
            " [[1620    0]\n",
            " [  35  203]]\n",
            "              precision    recall  f1-score   support\n",
            "\n",
            "         ham       0.98      1.00      0.99      1620\n",
            "        spam       1.00      0.85      0.92       238\n",
            "\n",
            "    accuracy                           0.98      1858\n",
            "   macro avg       0.99      0.93      0.95      1858\n",
            "weighted avg       0.98      0.98      0.98      1858\n",
            "\n"
          ],
          "name": "stdout"
        }
      ]
    },
    {
      "cell_type": "code",
      "metadata": {
        "id": "VC0o3i7904eT"
      },
      "source": [
        ""
      ],
      "execution_count": null,
      "outputs": []
    },
    {
      "cell_type": "code",
      "metadata": {
        "colab": {
          "base_uri": "https://localhost:8080/",
          "height": 298
        },
        "id": "uCJ0YivkJaQ-",
        "outputId": "7287986b-01ac-4684-cd3c-5aade6b8ecd5"
      },
      "source": [
        "b= plt.scatter(features_pca[:, 0], features_pca[:, 1], c=target_encoded, s=50, cmap='autumn')\n",
        "plt.xlim(-2, 10)\n",
        "plt.title('Polynomial Kernel Spam Detection')\n",
        "\n",
        "# plot the decision function\n",
        "clf = svm.SVC(kernel = 'poly', degree=2, coef0=0.5)\n",
        "clf.fit(train_pca, y_train)\n",
        "ax = plt.gca()\n",
        "xlim = ax.get_xlim()\n",
        "ylim = ax.get_ylim()\n",
        "\n",
        "# create grid to evaluate model\n",
        "xx = np.linspace(xlim[0], xlim[1], 30)\n",
        "yy = np.linspace(ylim[0], ylim[1], 30)\n",
        "YY, XX = np.meshgrid(yy, xx)\n",
        "xy = np.vstack([XX.ravel(), YY.ravel()]).T\n",
        "Z = clf.decision_function(xy).reshape(XX.shape)\n",
        "\n",
        "# plot decision boundary and margins\n",
        "ax.contour(XX, YY, Z, colors='k', levels=[-1, 0, 1], alpha=0.5,\n",
        "           linestyles=['--', '-', '--'])\n",
        "# plot support vectors\n",
        "# ax.scatter(clf.support_vectors_[:, 0], clf.support_vectors_[:, 1], s=100,\n",
        "          #  linewidth=1, facecolors='none', edgecolors='k')\n"
      ],
      "execution_count": null,
      "outputs": [
        {
          "output_type": "execute_result",
          "data": {
            "text/plain": [
              "<matplotlib.contour.QuadContourSet at 0x7f1480546c90>"
            ]
          },
          "metadata": {
            "tags": []
          },
          "execution_count": 76
        },
        {
          "output_type": "display_data",
          "data": {
            "image/png": "[encoded data removed]",
            "text/plain": [
              "<Figure size 432x288 with 1 Axes>"
            ]
          },
          "metadata": {
            "tags": [],
            "needs_background": "light"
          }
        }
      ]
    },
    {
      "cell_type": "code",
      "metadata": {
        "colab": {
          "base_uri": "https://localhost:8080/"
        },
        "id": "M-odaLOIFAKQ",
        "outputId": "dd67438b-5810-4a56-dbbb-1970144ce9b3"
      },
      "source": [
        "# SVM with Radial Kernel\n",
        "\n",
        "clf = svm.SVC(kernel = 'rbf', gamma=0.1)\n",
        "print('Training')\n",
        "clf.fit(train_data_features, y_train)\n",
        "\n",
        "print('Testing')\n",
        "predict = clf.predict(test_data_features)\n",
        "accuracy = np.mean(predict == y_test)\n",
        "print('Accuracy Using Radial Kernel: ', accuracy)\n",
        "print('Confusion Matrix:\\n', confusion_matrix(y_test, predict))\n",
        "print(classification_report(y_test, predict))"
      ],
      "execution_count": null,
      "outputs": [
        {
          "output_type": "stream",
          "text": [
            "Training\n",
            "Testing\n",
            "Accuracy Using Radial Kernel:  0.9693218514531755\n",
            "Confusion Matrix:\n",
            " [[1620    0]\n",
            " [  57  181]]\n",
            "              precision    recall  f1-score   support\n",
            "\n",
            "         ham       0.97      1.00      0.98      1620\n",
            "        spam       1.00      0.76      0.86       238\n",
            "\n",
            "    accuracy                           0.97      1858\n",
            "   macro avg       0.98      0.88      0.92      1858\n",
            "weighted avg       0.97      0.97      0.97      1858\n",
            "\n"
          ],
          "name": "stdout"
        }
      ]
    },
    {
      "cell_type": "code",
      "metadata": {
        "colab": {
          "base_uri": "https://localhost:8080/"
        },
        "id": "Ri5s9FQgFAKQ",
        "outputId": "9852761e-49f5-401d-b3cc-c299132532ac"
      },
      "source": [
        "# y_test\n",
        "clf.score(test_data_features, y_test)"
      ],
      "execution_count": null,
      "outputs": [
        {
          "output_type": "execute_result",
          "data": {
            "text/plain": [
              "0.9693218514531755"
            ]
          },
          "metadata": {
            "tags": []
          },
          "execution_count": 78
        }
      ]
    },
    {
      "cell_type": "code",
      "metadata": {
        "id": "HLH4Aa981Cgy"
      },
      "source": [
        ""
      ],
      "execution_count": null,
      "outputs": []
    },
    {
      "cell_type": "code",
      "metadata": {
        "colab": {
          "base_uri": "https://localhost:8080/",
          "height": 298
        },
        "id": "qFKzHMicJgKl",
        "outputId": "d269ae02-a923-43fc-fbdf-a12493f33d35"
      },
      "source": [
        "b= plt.scatter(features_pca[:, 0], features_pca[:, 1], c=target_encoded, s=50)\n",
        "plt.xlim(-2, 10)\n",
        "plt.title('Radial Kernel Spam Detection')\n",
        "\n",
        "# plot the decision function\n",
        "clf = svm.SVC(kernel = 'rbf', gamma=0.1)\n",
        "clf.fit(train_pca, y_train)\n",
        "ax = plt.gca()\n",
        "xlim = ax.get_xlim()\n",
        "ylim = ax.get_ylim()\n",
        "\n",
        "# create grid to evaluate model\n",
        "xx = np.linspace(xlim[0], xlim[1], 30)\n",
        "yy = np.linspace(ylim[0], ylim[1], 30)\n",
        "YY, XX = np.meshgrid(yy, xx)\n",
        "xy = np.vstack([XX.ravel(), YY.ravel()]).T\n",
        "Z = clf.decision_function(xy).reshape(XX.shape)\n",
        "\n",
        "# plot decision boundary and margins\n",
        "ax.contour(XX, YY, Z, colors='k', levels=[-1, 0, 1], alpha=0.5,\n",
        "           linestyles=['--', '-', '--'])\n",
        "# plot support vectors\n",
        "# ax.scatter(clf.support_vectors_[:, 0], clf.support_vectors_[:, 1], s=100,\n",
        "          #  linewidth=1, facecolors='none', edgecolors='k')\n"
      ],
      "execution_count": null,
      "outputs": [
        {
          "output_type": "execute_result",
          "data": {
            "text/plain": [
              "<matplotlib.contour.QuadContourSet at 0x7f14804e40d0>"
            ]
          },
          "metadata": {
            "tags": []
          },
          "execution_count": 79
        },
        {
          "output_type": "display_data",
          "data": {
            "image/png": "[encoded data removed]",
            "text/plain": [
              "<Figure size 432x288 with 1 Axes>"
            ]
          },
          "metadata": {
            "tags": [],
            "needs_background": "light"
          }
        }
      ]
    },
    {
      "cell_type": "code",
      "metadata": {
        "id": "hnCEUKwrFAKS"
      },
      "source": [
        ""
      ],
      "execution_count": null,
      "outputs": []
    },
    {
      "cell_type": "code",
      "metadata": {
        "id": "qkXHaqjJFAKS"
      },
      "source": [
        ""
      ],
      "execution_count": null,
      "outputs": []
    }
  ]
}